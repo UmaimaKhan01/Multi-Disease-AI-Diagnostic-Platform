{
 "cells": [
  {
   "cell_type": "markdown",
   "metadata": {},
   "source": [
    "# COVID-19 Detection Inference\n",
    "\n",
    "This notebook demonstrates how to use the trained COVID-19 detection model to make predictions on new X-ray images and visualize the results using Grad-CAM for explainability."
   ]
  },
  {
   "cell_type": "code",
   "execution_count": null,
   "metadata": {},
   "outputs": [],
   "source": [
    "import os\n",
    "import sys\n",
    "import numpy as np\n",
    "import matplotlib.pyplot as plt\n",
    "import cv2\n",
    "import tensorflow as tf\n",
    "\n",
    "# Add parent directory to path for imports\n",
    "sys.path.append(os.path.dirname(os.getcwd()))\n",
    "\n",
    "from models.covid_model import build_covid_model\n",
    "from utils.data_loader import load_covid_data, segment_lungs\n",
    "from utils.visualization import plot_gradcam_comparison\n",
    "from utils.gradcam import compute_gradcam, overlay_gradcam"
   ]
  },
  {
   "cell_type": "markdown",
   "metadata": {},
   "source": [
    "## Load Trained Model\n",
    "\n",
    "First, we'll load the pre-trained COVID-19 detection model. If you don't have a trained model yet, you can run the training script from the scripts directory."
   ]
  },
  {
   "cell_type": "code",
   "execution_count": null,
   "metadata": {},
   "outputs": [],
   "source": [
    "# Path to the model (update based on your model location)\n",
    "model_path = \"../models/saved/covid_model.h5\"\n",
    "\n",
    "# Try to load the saved model, or build a new one if the file doesn't exist\n",
    "try:\n",
    "    model = tf.keras.models.load_model(model_path)\n",
    "    print(\"Loaded pre-trained model from disk\")\n",
    "except:\n",
    "    print(\"Pre-trained model not found, building a new one\")\n",
    "    model = build_covid_model(input_shape=(224, 224, 1))\n",
    "\n",
    "# Display model summary\n",
    "model.summary()"
   ]
  },
  {
   "cell_type": "markdown",
   "metadata": {},
   "source": [
    "## Helper Functions for Inference\n",
    "\n",
    "These functions will help us preprocess images and interpret model results."
   ]
  },
  {
   "cell_type": "code",
   "execution_count": null,
   "metadata": {},
   "outputs": [],
   "source": [
    "def preprocess_image(image_path, target_size=(224, 224)):\n",
    "    \"\"\"Preprocess a chest X-ray image for COVID-19 detection.\"\"\"\n",
    "    # Read image\n",
    "    img = cv2.imread(image_path, cv2.IMREAD_GRAYSCALE)\n",
    "    if img is None:\n",
    "        raise ValueError(f\"Could not read image: {image_path}\")\n",
    "    \n",
    "    # Resize\n",
    "    img = cv2.resize(img, target_size)\n",
    "    \n",
    "    # Apply CLAHE for contrast enhancement\n",
    "    clahe = cv2.createCLAHE(clipLimit=2.0, tileGridSize=(8, 8))\n",
    "    img = clahe.apply(img)\n",
    "    \n",
    "    # Apply lung segmentation\n",
    "    img_segmented = segment_lungs(img)\n",
    "    \n",
    "    # Normalize and add channel dimension\n",
    "    img_normalized = img_segmented / 255.0\n",
    "    img_normalized = np.expand_dims(img_normalized, axis=-1)\n",
    "    \n",
    "    return img, img_normalized\n",
    "\n",
    "def interpret_prediction(prediction):\n",
    "    \"\"\"Interpret prediction probability for COVID-19 detection.\"\"\"\n",
    "    probability = prediction[0][0]\n",
    "    prediction_class = \"COVID-19 Positive\" if probability > 0.5 else \"Normal\"\n",
    "    confidence = probability if probability > 0.5 else 1 - probability\n",
    "    \n",
    "    return prediction_class, confidence"
   ]
  },
  {
   "cell_type": "markdown",
   "metadata": {},
   "source": [
    "## Single Image Inference\n",
    "\n",
    "Let's run inference on a single image and visualize the results."
   ]
  },
  {
   "cell_type": "code",
   "execution_count": null,
   "metadata": {},
   "outputs": [],
   "source": [
    "# Path to an example chest X-ray image (update with your own file)\n",
    "example_image_path = \"../data/covid/covid/example.jpg\"\n",
    "\n",
    "# Check if the file exists, otherwise use a placeholder\n",
    "if not os.path.exists(example_image_path):\n",
    "    # This is just for demonstration when you don't have the dataset\n",
    "    print(\"Example image not found. Please update with a valid path to a chest X-ray image.\")\n",
    "    # Create a placeholder image\n",
    "    img = np.random.rand(224, 224) * 255\n",
    "    img = img.astype(np.uint8)\n",
    "    img_normalized = img / 255.0\n",
    "    img_normalized = np.expand_dims(img_normalized, axis=-1)\n",
    "else:\n",
    "    # Preprocess the image\n",
    "    img, img_normalized = preprocess_image(example_image_path)\n",
    "\n",
    "# Make prediction\n",
    "prediction = model.predict(np.expand_dims(img_normalized, axis=0))\n",
    "prediction_class, confidence = interpret_prediction(prediction)\n",
    "\n",
    "# Print prediction\n",
    "print(f\"Prediction: {prediction_class}\")\n",
    "print(f\"Confidence: {confidence:.2%}\")\n",
    "\n",
    "# Visualize original image and Grad-CAM\n",
    "fig = plot_gradcam_comparison(\n",
    "    model, \n",
    "    img_normalized, \n",
    "    title=f\"COVID-19 Detection: {prediction_class} (Confidence: {confidence:.2%})\"\n",
    ")"
   ]
  },
  {
   "cell_type": "markdown",
   "metadata": {},
   "source": [
    "## Batch Inference\n",
    "\n",
    "Now let's run inference on multiple images from a directory."
   ]
  },
  {
   "cell_type": "code",
   "execution_count": null,
   "metadata": {},
   "outputs": [],
   "source": [
    "def process_directory(directory_path, num_samples=5):\n",
    "    \"\"\"Process multiple images from a directory.\"\"\"\n",
    "    results = []\n",
    "    \n",
    "    # Get all image files in the directory\n",
    "    image_files = [f for f in os.listdir(directory_path) \n",
    "                   if os.path.isfile(os.path.join(directory_path, f)) \n",
    "                   and f.lower().endswith(('.png', '.jpg', '.jpeg'))]\n",
    "    \n",
    "    # Limit to the specified number of samples\n",
    "    image_files = image_files[:num_samples]\n",
    "    \n",
    "    for filename in image_files:\n",
    "        image_path = os.path.join(directory_path, filename)\n",
    "        img, img_normalized = preprocess_image(image_path)\n",
    "        \n",
    "        # Make prediction\n",
    "        prediction = model.predict(np.expand_dims(img_normalized, axis=0))\n",
    "        prediction_class, confidence = interpret_prediction(prediction)\n",
    "        \n",
    "        # Compute Grad-CAM\n",
    "        heatmap = compute_gradcam(model, img_normalized)\n",
    "        overlay = overlay_gradcam(img, heatmap)\n",
    "        \n",
    "        results.append({\n",
    "            'filename': filename,\n",
    "            'prediction': prediction_class,\n",
    "            'confidence': confidence,\n",
    "            'image': img,\n",
    "            'overlay': overlay\n",
    "        })\n",
    "    \n",
    "    return results"
   ]
  },
  {
   "cell_type": "code",
   "execution_count": null,
   "metadata": {},
   "outputs": [],
   "source": [
    "# Path to a directory of chest X-ray images (update with your own directory)\n",
    "test_directory = \"../data/covid/covid\"\n",
    "\n",
    "# Process images if the directory exists\n",
    "if os.path.exists(test_directory):\n",
    "    results = process_directory(test_directory)\n",
    "    \n",
    "    # Visualize results\n",
    "    fig, axes = plt.subplots(len(results), 2, figsize=(12, 4*len(results)))\n",
    "    \n",
    "    for i, result in enumerate(results):\n",
    "        # Display original image\n",
    "        axes[i, 0].imshow(result['image'], cmap='gray')\n",
    "        axes[i, 0].set_title(f\"{result['filename']}\")\n",
    "        axes[i, 0].axis('off')\n",
    "        \n",
    "        # Display Grad-CAM overlay\n",
    "        axes[i, 1].imshow(result['overlay'])\n",
    "        axes[i, 1].set_title(f\"{result['prediction']} (Confidence: {result['confidence']:.2%})\")\n",
    "        axes[i, 1].axis('off')\n",
    "    \n",
    "    plt.tight_layout()\n",
    "    plt.show()\n",
    "else:\n",
    "    print(f\"Directory not found: {test_directory}\")\n",
    "    print(\"Please update with a valid directory path containing chest X-ray images.\")"
   ]
  },
  {
   "cell_type": "markdown",
   "metadata": {},
   "source": [
    "## Upload and Analyze Your Own Image\n",
    "\n",
    "The following code allows you to upload your own chest X-ray image for analysis."
   ]
  },
  {
   "cell_type": "code",
   "execution_count": null,
   "metadata": {},
   "outputs": [],
   "source": [
    "from IPython.display import display, FileUpload\n",
    "\n",
    "def process_uploaded_image(change):\n",
    "    \"\"\"Process an uploaded image for COVID-19 detection.\"\"\"\n",
    "    # Get the uploaded file\n",
    "    uploaded_file = list(change['new'].values())[0]\n",
    "    content = uploaded_file['content']\n",
    "    filename = uploaded_file['name']\n",
    "    \n",
    "    # Save the file to a temporary location\n",
    "    temp_path = f\"temp_{filename}\"\n",
    "    with open(temp_path, 'wb') as f:\n",
    "        f.write(content)\n",
    "    \n",
    "    # Preprocess the image\n",
    "    img, img_normalized = preprocess_image(temp_path)\n",
    "    \n",
    "    # Make prediction\n",
    "    prediction = model.predict(np.expand_dims(img_normalized, axis=0))\n",
    "    prediction_class, confidence = interpret_prediction(prediction)\n",
    "    \n",
    "    # Visualize original image and Grad-CAM\n",
    "    fig = plot_gradcam_comparison(\n",
    "        model, \n",
    "        img_normalized, \n",
    "        title=f\"COVID-19 Detection: {prediction_class} (Confidence: {confidence:.2%})\"\n",
    "    )\n",
    "    \n",
    "    # Clean up the temporary file\n",
    "    os.remove(temp_path)\n",
    "    \n",
    "    return fig\n",
    "\n",
    "# Create upload widget\n",
    "uploader = FileUpload(accept='.jpg,.jpeg,.png', multiple=False)\n",
    "uploader.observe(process_uploaded_image, names='value')\n",
    "\n",
    "# Display the widget\n",
    "print(\"Upload a chest X-ray image:\")\n",
    "display(uploader)"
   ]
  },
  {
   "cell_type": "markdown",
   "metadata": {},
   "source": [
    "## Conclusion\n",
    "\n",
    "In this notebook, we have demonstrated how to use the Doctor Dock COVID-19 detection model to:\n",
    "\n",
    "1. Load and preprocess chest X-ray images\n",
    "2. Make predictions to classify images as COVID-19 positive or normal\n",
    "3. Visualize the model's decision-making process using Grad-CAM\n",
    "4. Run batch inference on multiple images\n",
    "5. Upload and analyze your own images\n",
    "\n",
    "The Grad-CAM visualizations help to understand which regions of the X-ray the model is focusing on to make its predictions, providing explainability that is crucial for medical AI applications."
   ]
  }
 ],
 "metadata": {
  "kernelspec": {
   "display_name": "Python 3",
   "language": "python",
   "name": "python3"
  },
  "language_info": {
   "codemirror_mode": {
    "name": "ipython",
    "version": 3
   },
   "file_extension": ".py",
   "mimetype": "text/x-python",
   "name": "python",
   "nbconvert_exporter": "python",
   "pygments_lexer": "ipython3",
   "version": "3.9.13"
  }
 },
 "nbformat": 4,
 "nbformat_minor": 4
}
