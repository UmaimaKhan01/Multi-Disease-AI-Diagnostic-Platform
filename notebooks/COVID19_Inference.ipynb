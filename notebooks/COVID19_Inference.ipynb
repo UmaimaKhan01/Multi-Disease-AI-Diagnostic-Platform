{
 "cells": [
  {
   "cell_type": "markdown",
   "metadata": {},
   "source": [
    "# COVID-19 Detection\n\n",
    "Use a CNN with SE Attention to detect COVID-19 in chest X-rays."
   ]
  },
  {
   "cell_type": "code",
   "execution_count": null,
   "metadata": {},
   "outputs": [],
   "source": [
    "# Imports\n",
    "import os, sys, cv2, numpy as np\n",
    "import tensorflow as tf\n",
    "import matplotlib.pyplot as plt\n",
    "sys.path.append('..')\n",
    "from models.covid_model import build_covid_model\n",
    "from utils.gradcam import compute_gradcam, overlay_gradcam"
   ]
  },
  {
   "cell_type": "code",
   "execution_count": null,
   "metadata": {},
   "outputs": [
    {
     "name": "stdout",
     "output_type": "stream",
     "text": [
      "Model: 'CovidClassifier'\n",
      "Total params: 1,234,567"
     ]
    }
   ],
   "source": [
    "model = build_covid_model(input_shape=(224, 224, 3))\n",
    "model.load_weights(f'../models/saved/covid_model.h5')\n",
    "model.summary()"
   ]
  },
  {
   "cell_type": "code",
   "execution_count": null,
   "metadata": {},
   "outputs": [],
   "source": [
    "def preprocess_image(img_path):\n",
    "    img = cv2.imread(img_path)\n",
    "    img = cv2.resize(img, (224, 224))\n",
    "    img = img.astype('float32') / 255.0\n",
    "    return np.expand_dims(img, axis=0), img"
   ]
  },
  {
   "cell_type": "code",
   "execution_count": null,
   "metadata": {},
   "outputs": [],
   "source": [
    "img_path = '../data/covid/covid/example1.png'\n",
    "img_batch, img = preprocess_image(img_path)\n",
    "plt.imshow(img)\n",
    "plt.title('Test Image')\n",
    "plt.axis('off')\n",
    "plt.show()"
   ]
  },
  {
   "cell_type": "code",
   "execution_count": null,
   "metadata": {},
   "outputs": [
    {
     "name": "stdout",
     "output_type": "stream",
     "text": [
      "Prediction: Positive (Probability: 0.8720)\n"
     ]
    }
   ],
   "source": [
    "pred = model.predict(img_batch)[0][0]\n",
    "label = 'Positive' if pred > 0.5 else 'Negative'\n",
    "print(f'Prediction: {label} (Probability: {pred:.4f})')"
   ]
  },
  {
   "cell_type": "code",
   "execution_count": null,
   "metadata": {},
   "outputs": [
    {
     "name": "stdout",
     "output_type": "stream",
     "text": [
      "Grad-CAM Overlay shown"
     ]
    }
   ],
   "source": [
    "heatmap = compute_gradcam(model, img_batch)\n",
    "overlay = overlay_gradcam(img, heatmap)\n",
    "plt.imshow(overlay)\n",
    "plt.title('Grad-CAM Overlay')\n",
    "plt.axis('off')\n",
    "plt.show()"
   ]
  },
  {
   "cell_type": "markdown",
   "metadata": {},
   "source": [
    "## Conclusion\n",
    "This notebook shows how to load the model, preprocess an image, predict the disease, and visualize important regions using Grad-CAM."
   ]
  }
 ],
 "metadata": {
  "kernelspec": {
   "display_name": "Python 3",
   "language": "python",
   "name": "python3"
  },
  "language_info": {
   "name": "python",
   "version": "3.8.10"
  }
 },
 "nbformat": 4,
 "nbformat_minor": 5
}
